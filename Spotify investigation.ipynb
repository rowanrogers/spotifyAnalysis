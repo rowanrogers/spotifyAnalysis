{
 "cells": [
  {
   "cell_type": "markdown",
   "id": "cf5f100c",
   "metadata": {},
   "source": [
    "# Spotify tunes\n",
    "A little look at the data that spotify provides via it's developer API suite. I have called the API to fetch the last 20 songs i listened to and then for each song have fetched the characteristics of that song including metrics calculated by spotify used for recommendations. \n",
    "\n",
    "The metrics include:\n",
    "- acousticness\n",
    "- danceability\n",
    "- energy (intensity and activity scale 0-1)\n",
    "- instumentalness (values over 0.5 imply instrumental, closer to 1 the more likely)\n",
    "- liveness (over 0.8 = strong likelihood that track is live recording)\n",
    "- loudness (in dB)\n",
    "- mode (1 if major, 0 if minor)\n",
    "- speechiness (presence of spoken word)\n",
    "- tempo\n",
    "- time_signature (3 - 7)\n",
    "- valence (positiveness)\n",
    "\n",
    "Twenty songs is not a large data set, so this will be an initial analysis of the metrics and how appropriate they seem given the song and to calculate the similarity between songs."
   ]
  },
  {
   "cell_type": "code",
   "execution_count": null,
   "id": "90cb68f1",
   "metadata": {},
   "outputs": [],
   "source": []
  }
 ],
 "metadata": {
  "kernelspec": {
   "display_name": "Python 3 (ipykernel)",
   "language": "python",
   "name": "python3"
  },
  "language_info": {
   "codemirror_mode": {
    "name": "ipython",
    "version": 3
   },
   "file_extension": ".py",
   "mimetype": "text/x-python",
   "name": "python",
   "nbconvert_exporter": "python",
   "pygments_lexer": "ipython3",
   "version": "3.9.12"
  }
 },
 "nbformat": 4,
 "nbformat_minor": 5
}
